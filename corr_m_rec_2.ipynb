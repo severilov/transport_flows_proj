{
 "cells": [
  {
   "cell_type": "code",
   "execution_count": 1,
   "metadata": {},
   "outputs": [],
   "source": [
    "import pandas as pd\n",
    "import numpy as np\n",
    "import matplotlib.pyplot as plt\n",
    "\n",
    "from scipy.stats import entropy\n",
    "import matplotlib.pyplot as plt\n",
    "from mpl_toolkits.mplot3d import axes3d, Axes3D\n",
    "np.set_printoptions(suppress=True)"
   ]
  },
  {
   "cell_type": "code",
   "execution_count": 2,
   "metadata": {},
   "outputs": [],
   "source": [
    "raw_data = np.genfromtxt('traffic_moscow.csv', delimiter=',')\n",
    "\n",
    "n_areas = int(np.max(raw_data[:, 0]))\n",
    "correspondence_matrix = np.full(\n",
    "            (n_areas, n_areas), np.nan, dtype=np.double\n",
    ")\n",
    "T = np.full(\n",
    "    (n_areas, n_areas), np.nan, dtype=np.double\n",
    ")\n",
    "amt = np.full(\n",
    "    (n_areas, n_areas), np.nan, dtype=np.double\n",
    ")\n",
    "for raw_data_line in raw_data:\n",
    "    i, j = int(raw_data_line[0]) - 1, int(raw_data_line[1]) - 1\n",
    "    correspondence_matrix[i, j] = raw_data_line[2]\n",
    "    T[i, j] = raw_data_line[3]\n",
    "    amt[i, j] = raw_data_line[4]\n",
    "    \n",
    "L = np.nansum(correspondence_matrix, axis=1),\n",
    "W = np.nansum(correspondence_matrix, axis=0)\n",
    "\n",
    "people_num = np.nansum(L)\n",
    "\n",
    "L = L / np.nansum(L)\n",
    "W = W / np.nansum(W)"
   ]
  },
  {
   "cell_type": "code",
   "execution_count": 3,
   "metadata": {},
   "outputs": [
    {
     "data": {
      "text/plain": [
       "274"
      ]
     },
     "execution_count": 3,
     "metadata": {},
     "output_type": "execute_result"
    }
   ],
   "source": [
    "np.count_nonzero(np.isnan(T))"
   ]
  },
  {
   "cell_type": "code",
   "execution_count": 4,
   "metadata": {},
   "outputs": [
    {
     "data": {
      "text/plain": [
       "array([[ 26.,  49.,  35.,  75.,  30.,  52.,  48.,  48.,  nan,  nan,  30.,\n",
       "         nan,  50.,  nan,  nan,  nan,  nan,  nan,  nan,  nan,  nan,  nan],\n",
       "       [ 53.,  27.,  51.,  55.,  58.,  65.,  30.,  71.,  72.,  nan,  nan,\n",
       "         60.,  nan,  nan,  48.,  nan,  nan,  nan,  nan,  nan,  nan,  nan],\n",
       "       [ 53.,  67.,  34.,  57.,  67.,  86.,  85.,  85.,  90.,  nan,  52.,\n",
       "         90.,  nan, 165.,  98.,  nan,  nan,  nan,  nan,  nan,  nan,  nan],\n",
       "       [ 55.,  77.,  36.,  37.,  52.,  35.,  70.,  79., 112.,  nan,  nan,\n",
       "         90.,  90.,  nan,  nan,  nan,  nan,  nan,  nan,  nan,  nan,  nan],\n",
       "       [ 60.,  82.,  70.,  48.,  31.,  60.,  58.,  83.,  59.,  nan,  90.,\n",
       "         41.,  nan,  nan,  nan,  nan,  nan,  nan, 240.,  nan,  nan,  nan],\n",
       "       [ 66.,  66.,  80.,  70.,  59.,  37.,  48.,  69.,  nan,  nan,  nan,\n",
       "         40.,  45., 120., 105.,  nan,  nan,  75.,  nan,  nan,  nan,  nan],\n",
       "       [ 54.,  89., 120.,  63.,  78.,  58.,  29.,  44.,  67.,  nan,  nan,\n",
       "         nan,  38., 135., 125.,  80.,  nan, 100.,  nan,  nan,  nan,  nan],\n",
       "       [ 53.,  58.,  60.,  60.,  75.,  56.,  44.,  30.,  68.,  nan,  nan,\n",
       "         90.,  28.,  90.,  nan,  nan,  nan,  nan,  nan,  nan,  nan,  nan],\n",
       "       [ 62.,  59.,  85., 105.,  68.,  73.,  68.,  44.,  28.,  90.,  nan,\n",
       "        120.,  nan,  nan, 140.,  nan,  nan,  nan,  nan,  nan,  nan,  nan],\n",
       "       [ nan,  60.,  nan,  nan,  nan,  nan,  nan,  nan,  nan,  33.,  nan,\n",
       "         nan,  nan,  nan,  40.,  nan,  nan,  nan,  nan,  nan,  nan,  nan],\n",
       "       [ 98.,  nan,  71.,  91., 120., 180.,  nan, 134.,  nan,  nan,  25.,\n",
       "         45., 150., 125., 115.,  nan,  nan,  nan,  nan,  nan,  nan,  nan],\n",
       "       [ 85., 100.,  82.,  77.,  67.,  91.,  90., 121., 112.,  nan, 120.,\n",
       "         32., 125., 125.,  nan,  nan,  nan,  nan,  nan,  nan,  nan,  nan],\n",
       "       [103.,  88., 121.,  80.,  90.,  82.,  70., 105.,  nan,  nan,  50.,\n",
       "        180.,  27., 180.,  75.,  nan,  nan,  nan,  32.,  nan,  nan,  nan],\n",
       "       [ 98., 150., 158., 105., 180.,  nan, 120.,  72., 110.,  nan,  nan,\n",
       "         nan,  50.,  26.,  nan,  nan,  nan,  nan,  nan,  nan,  nan,  nan],\n",
       "       [100.,  67.,  80.,  85., 116., 107., 120., 116.,  54., 150.,  nan,\n",
       "         nan,  nan,  nan,  25.,  nan,  nan,  nan,  nan,  nan,  nan,  60.],\n",
       "       [120.,  90., 116., 150.,  nan,  nan, 210., 140.,  nan,  nan,  70.,\n",
       "         nan,  nan,  nan,  80.,  22.,  nan,  nan,  nan,  nan,  nan,  nan],\n",
       "       [153.,  nan,  nan, 150., 128.,  nan, 210.,  nan,  nan,  nan,  nan,\n",
       "        120.,  90.,  nan,  nan,  nan,  29.,  nan,  nan,  nan,  nan,  nan],\n",
       "       [158., 120., 180., 120.,  nan,  nan,  nan, 150., 240.,  nan,  nan,\n",
       "         nan, 110.,  nan,  nan,  nan,  40.,  20.,  nan,  nan,  nan,  nan],\n",
       "       [132.,  nan,  80.,  nan,  nan, 105., 110.,  nan,  nan,  nan,  nan,\n",
       "         nan,  62.,  nan,  nan,  nan,  nan,  nan,  25.,  nan,  nan,  nan],\n",
       "       [ nan,  nan,  nan,  nan,  nan,  nan,  nan, 120.,  nan,  nan,  nan,\n",
       "         nan,  nan,  40.,  nan,  nan,  nan,  nan,  nan,  12.,  nan,  nan],\n",
       "       [ nan,  nan,  nan,  nan,  nan,  nan,  nan,  nan,  nan,  nan,  nan,\n",
       "         nan,  nan,  nan,  30.,  nan,  nan,  nan,  nan,  nan,  18.,  nan],\n",
       "       [140., 120.,  nan,  nan,  nan,  nan,  nan,  nan,  nan,  nan,  nan,\n",
       "         nan,  nan,  nan,  nan,  nan,  nan,  nan,  nan,  nan,  nan,  25.]])"
      ]
     },
     "execution_count": 4,
     "metadata": {},
     "output_type": "execute_result"
    }
   ],
   "source": [
    "T"
   ]
  },
  {
   "cell_type": "code",
   "execution_count": 11,
   "metadata": {},
   "outputs": [],
   "source": [
    "def Sinkhorn(k, lambda_W_prev, lambda_L_prev):    \n",
    "    lambda_L = np.zeros((n, ), dtype=np.double)\n",
    "    lambda_W = np.zeros((n, ), dtype=np.double)\n",
    "    \n",
    "    if k % 2 == 0:\n",
    "        lambda_W = lambda_W_prev\n",
    "        lambda_L = np.log(np.nansum(\n",
    "            (np.exp(-lambda_W_prev - 1 - cost_matrix)).T \n",
    "            / L, axis = 0\n",
    "            ))\n",
    "    else:\n",
    "        lambda_L = lambda_L_prev\n",
    "        lambda_W = np.log(np.nansum(\n",
    "            (np.exp(-lambda_L - 1 - cost_matrix.T)).T\n",
    "            / W, axis=0\n",
    "            ))\n",
    "        \n",
    "    return lambda_W, lambda_L\n",
    "\n",
    "def iterate(cost_matrix, L, W, num_iter, eps):\n",
    "    \n",
    "    lambda_L = np.zeros((n, ), dtype=np.double)\n",
    "    lambda_W = np.zeros((n, ), dtype=np.double)\n",
    "    \n",
    "    for k in range(num_iter):\n",
    "        \n",
    "        lambda_Wn, lambda_Ln = Sinkhorn(k, lambda_W, lambda_L)\n",
    "        \n",
    "        delta = np.linalg.norm(np.concatenate((lambda_Ln - lambda_L, \n",
    "                                               lambda_Wn - lambda_W)))\n",
    "        \n",
    "        lambda_L, lambda_W = lambda_Ln, lambda_Wn \n",
    "        \n",
    "        if delta < eps:\n",
    "            break\n",
    "    \n",
    "    r = error_d_i_j(lambda_Ln, lambda_Wn, cost_matrix)\n",
    "    return r\n",
    "\n",
    "def error_d_i_j(lambda_L, lambda_W, cost_matrix):\n",
    "    er = np.exp( -1 - cost_matrix - (np.reshape(lambda_L, (n, 1)) + lambda_W))\n",
    "    return er * people_num"
   ]
  },
  {
   "cell_type": "code",
   "execution_count": 12,
   "metadata": {},
   "outputs": [],
   "source": [
    "n = 22\n",
    "num_iter = 1000\n",
    "alpha, beta = 1.0, 1.0\n",
    "beta_range = np.arange(0.0, 0.5, 0.01)\n",
    "cost_matrix = T * beta * alpha\n",
    "\n",
    "res_list = []\n",
    "for beta in beta_range:\n",
    "    cost_matrix = np.nan_to_num(T * beta * alpha, nan=np.inf)\n",
    "    rec = iterate(cost_matrix, L, W, num_iter, eps=10**(-4))\n",
    "    er = np.linalg.norm(rec - np.nan_to_num(correspondence_matrix, nan=0.0))\n",
    "    er = np.sqrt( er / np.sum(np.nan_to_num(correspondence_matrix, nan=0.0)) )\n",
    "    res_list.append(er)"
   ]
  },
  {
   "cell_type": "code",
   "execution_count": 13,
   "metadata": {},
   "outputs": [
    {
     "data": {
      "text/plain": [
       "(0.20941862435287173, 8, 0.08)"
      ]
     },
     "execution_count": 13,
     "metadata": {},
     "output_type": "execute_result"
    }
   ],
   "source": [
    "np.min(res_list), res_list.index(np.min(res_list)), beta_range[res_list.index(np.min(res_list))]"
   ]
  },
  {
   "cell_type": "raw",
   "metadata": {},
   "source": [
    "best_alpha = beta_range[res_list.index(np.min(res_list))]\n",
    "best_cor_matrix = iterate(beta, best_alpha, L, W, num_iter, eps=10**(-4))"
   ]
  },
  {
   "cell_type": "code",
   "execution_count": 14,
   "metadata": {},
   "outputs": [
    {
     "data": {
      "text/plain": [
       "0.12841374961765817"
      ]
     },
     "execution_count": 14,
     "metadata": {},
     "output_type": "execute_result"
    }
   ],
   "source": [
    "res_list[0] - res_list[res_list.index(np.min(res_list))]"
   ]
  },
  {
   "cell_type": "code",
   "execution_count": 15,
   "metadata": {},
   "outputs": [
    {
     "data": {
      "image/png": "[encoded data removed]",
      "text/plain": [
       "<Figure size 432x288 with 1 Axes>"
      ]
     },
     "metadata": {
      "needs_background": "light"
     },
     "output_type": "display_data"
    }
   ],
   "source": [
    "plt.ticklabel_format(useOffset=False)\n",
    "\n",
    "plt.scatter(beta_range, res_list)\n",
    "plt.ylabel('Невязка')\n",
    "plt.xlabel('alpha')\n",
    "plt.show()"
   ]
  },
  {
   "cell_type": "code",
   "execution_count": null,
   "metadata": {},
   "outputs": [],
   "source": []
  }
 ],
 "metadata": {
  "kernelspec": {
   "display_name": "Python 3",
   "language": "python",
   "name": "python3"
  },
  "language_info": {
   "codemirror_mode": {
    "name": "ipython",
    "version": 3
   },
   "file_extension": ".py",
   "mimetype": "text/x-python",
   "name": "python",
   "nbconvert_exporter": "python",
   "pygments_lexer": "ipython3",
   "version": "3.7.2"
  }
 },
 "nbformat": 4,
 "nbformat_minor": 2
}
