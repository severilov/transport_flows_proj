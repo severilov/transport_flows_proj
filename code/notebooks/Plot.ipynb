{
 "cells": [
  {
   "cell_type": "code",
   "execution_count": null,
   "metadata": {},
   "outputs": [],
   "source": [
    "import numpy as np\n",
    "import matplotlib.pyplot as plt\n",
    "\n",
    "%matplotlib inline"
   ]
  },
  {
   "cell_type": "code",
   "execution_count": null,
   "metadata": {},
   "outputs": [],
   "source": [
    "multi_root = 'KEV_res/multi/'# mu =0.0/'\n",
    "iter_root = 'KEV_res/iter/' #mu =0.0/'\n",
    "\n",
    "flows = 'flows/'\n",
    "corrs = 'corr_matrix/'\n",
    "times = 'times/'\n",
    "subgs = 'subg/'\n",
    "inverses = 'inverse_func/'"
   ]
  },
  {
   "cell_type": "code",
   "execution_count": null,
   "metadata": {},
   "outputs": [],
   "source": [
    "n =  114\n",
    "mu = 0.25\n",
    "\n",
    "f = []\n",
    "c = []\n",
    "t = []\n",
    "f_n_k = []\n",
    "c_n_k = []\n",
    "t_n_k = []\n",
    "inv = []\n",
    "sbg = []\n",
    "\n",
    "flow_n = np.loadtxt(multi_root + flows + str(n-1) + '_flows.txt', \n",
    "                          delimiter = ' ')\n",
    "time_n = np.loadtxt(multi_root + times + str(n-1) + '_time.txt', \n",
    "                          delimiter = ' ')\n",
    "c_n = np.loadtxt(multi_root + corrs + str(n-1) + '_corr_matrix.txt', \n",
    "                          delimiter = ' ')\n",
    "subg_n = np.loadtxt(multi_root + subgs + str(n-1) + '_nabla_func.txt', \n",
    "                          delimiter = ' ')\n",
    "inverse_n = np.loadtxt(multi_root + inverses + str(n-1) + '_inverse_func.txt', \n",
    "                          delimiter = ' ')"
   ]
  },
  {
   "cell_type": "markdown",
   "metadata": {},
   "source": [
    "#### MULTI"
   ]
  },
  {
   "cell_type": "code",
   "execution_count": null,
   "metadata": {},
   "outputs": [],
   "source": [
    "for ms_i in range(n):\n",
    "    if ms_i == 0:\n",
    "        flow_0 = np.loadtxt(multi_root + flows + str(ms_i) + '_flows.txt', \n",
    "                          delimiter = ' ')\n",
    "        time_0 = np.loadtxt(multi_root + times + str(ms_i) + '_time.txt', \n",
    "                          delimiter = ' ')\n",
    "        corr_0 = np.loadtxt(multi_root + corrs + str(ms_i) + '_corr_matrix.txt', \n",
    "                          delimiter = ' ')\n",
    "        subg_0 = np.loadtxt(multi_root + subgs + str(ms_i) + '_nabla_func.txt', \n",
    "                          delimiter = ' ')\n",
    "        inverse_0 = np.loadtxt(multi_root + inverses + str(ms_i) + '_inverse_func.txt', \n",
    "                          delimiter = ' ')\n",
    "        \n",
    "        f_n_k.append(np.linalg.norm(flow_n - flow_0))\n",
    "        t_n_k.append(np.linalg.norm(time_n - time_0))\n",
    "        c_n_k.append(np.linalg.norm(c_n - corr_0))\n",
    "    else:\n",
    "        flow = np.loadtxt(multi_root + flows + str(ms_i) + '_flows.txt', \n",
    "                          delimiter = ' ')\n",
    "        time = np.loadtxt(multi_root + times + str(ms_i) + '_time.txt', \n",
    "                          delimiter = ' ')\n",
    "        corr = np.loadtxt(multi_root + corrs + str(ms_i) + '_corr_matrix.txt', \n",
    "                          delimiter = ' ')\n",
    "        subg = np.loadtxt(multi_root + subgs + str(ms_i) + '_nabla_func.txt', \n",
    "                          delimiter = ' ')\n",
    "        inverse = np.loadtxt(multi_root + inverses + str(ms_i) + '_inverse_func.txt', \n",
    "                          delimiter = ' ')\n",
    "        \n",
    "        inv.append(inverse)\n",
    "        sbg.append(subg)\n",
    "        t.append(time)\n",
    "        \n",
    "        f.append(np.linalg.norm(flow - flow_0))\n",
    "#         t.append(np.linalg.norm(time - time_0))\n",
    "        c.append(np.linalg.norm(corr - corr_0))\n",
    "        \n",
    "        flow_0 = flow\n",
    "        time_0 = time\n",
    "        corr_0 = corr\n",
    "        \n",
    "        f_n_k.append(np.linalg.norm(flow_n - flow_0))\n",
    "        t_n_k.append(np.linalg.norm(time_n - time_0))\n",
    "        c_n_k.append(np.linalg.norm(c_n - corr_0))"
   ]
  },
  {
   "cell_type": "code",
   "execution_count": null,
   "metadata": {},
   "outputs": [],
   "source": [
    "np.shape(t[0])"
   ]
  },
  {
   "cell_type": "markdown",
   "metadata": {},
   "source": [
    "##### Критерий\n",
    "\n",
    "1) $\\| \\nabla f(t^k) \\|_2 * 2\\|t^0 - t^k\\|_2 $\n",
    "\n",
    "2) $2\\|t^0 - t^k\\|_2$\n",
    "\n",
    "можно брать $5\\|t^0\\|_2$ вместо выражения 2)"
   ]
  },
  {
   "cell_type": "code",
   "execution_count": null,
   "metadata": {},
   "outputs": [],
   "source": [
    "t_0 = np.loadtxt(multi_root + times + '0_time.txt', \n",
    "                          delimiter = ' ')\n",
    "def criteria(inv, sbg, t, t_0):\n",
    "    f = sbg + inv\n",
    "#     print(t, t_0)\n",
    "    return np.linalg.norm(f)*np.linalg.norm(2*t_0)"
   ]
  },
  {
   "cell_type": "code",
   "execution_count": null,
   "metadata": {},
   "outputs": [],
   "source": [
    "crit = []\n",
    "for i in range(len(inv)):\n",
    "    crit.append(criteria(inv[i], sbg[i], t[i], t_0))"
   ]
  },
  {
   "cell_type": "code",
   "execution_count": null,
   "metadata": {},
   "outputs": [],
   "source": [
    "crit[0]"
   ]
  },
  {
   "cell_type": "code",
   "execution_count": null,
   "metadata": {},
   "outputs": [],
   "source": [
    "n"
   ]
  },
  {
   "cell_type": "code",
   "execution_count": null,
   "metadata": {},
   "outputs": [],
   "source": [
    "flow_n\n",
    "flow_n_orig = np.loadtxt('/home/demyan/reps/TransportNetCopy/Stable Dynamic & Beckman/KEV_res/multi/' + flows + str(n-1) + '_flows.txt', \n",
    "                          delimiter = ' ')"
   ]
  },
  {
   "cell_type": "code",
   "execution_count": null,
   "metadata": {},
   "outputs": [],
   "source": [
    "flow_n_orig - flow_n"
   ]
  },
  {
   "cell_type": "code",
   "execution_count": null,
   "metadata": {},
   "outputs": [],
   "source": [
    "flow_n"
   ]
  },
  {
   "cell_type": "code",
   "execution_count": null,
   "metadata": {},
   "outputs": [],
   "source": [
    "w = 8\n",
    "h = 6\n",
    "plt.figure(figsize=(w, h))\n",
    "plt.plot(crit, 'o', color='magenta')\n",
    "plt.yscale('log')"
   ]
  },
  {
   "cell_type": "code",
   "execution_count": null,
   "metadata": {},
   "outputs": [],
   "source": [
    "len(crit), len(crit[5:])"
   ]
  },
  {
   "cell_type": "code",
   "execution_count": null,
   "metadata": {},
   "outputs": [],
   "source": [
    "w = 14\n",
    "h = 8\n",
    "# # plt.figure(figsize=(w, h))\n",
    "# # plt.loglog(crit, 'o', color='magenta')\n",
    "import matplotlib.ticker as mtick\n",
    "\n",
    "fig, ax = plt.subplots(figsize=(w, h))\n",
    "\n",
    "ax.loglog(crit, 'o', color='magenta', basex=np.e, basey=np.e)\n",
    "\n",
    "def ticks(y, pos):\n",
    "    return r'$e^{:.0f}$'.format(np.log(y))\n",
    "\n",
    "ax.xaxis.set_major_formatter(mtick.FuncFormatter(ticks))\n",
    "ax.yaxis.set_major_formatter(mtick.FuncFormatter(ticks))\n",
    "\n",
    "# plt.yticks(np.arange(1, 2*10**10, step=0.1*np.e**10))\n",
    "\n",
    "# plt.ylim(np.e*10**6.7, np.e*10**7.01)\n",
    "plt.grid()\n",
    "plt.show()\n",
    "plt.savefig(multi_root + 'crit_log_log.png')\n",
    "np.savetxt(multi_root + 'crit.txt', crit, delimiter=' ')"
   ]
  },
  {
   "cell_type": "raw",
   "metadata": {},
   "source": [
    "sbg"
   ]
  },
  {
   "cell_type": "raw",
   "metadata": {},
   "source": [
    "w = 8\n",
    "h = 6\n",
    "plt.figure(figsize=(w, h))\n",
    "# plt.ylim(0, 50)\n",
    "# plt.xlim(0, 250)\n",
    "plt.plot(f, 'o', color='green')\n",
    "plt.title('mu =' + str(mu) + ', ' + 'flow_{k} - flow_{k-1}')\n",
    "plt.savefig(multi_root + 'flow_{k} - flow_{k-1}.png')"
   ]
  },
  {
   "cell_type": "raw",
   "metadata": {},
   "source": [
    "w = 8\n",
    "h = 6\n",
    "plt.figure(figsize=(w, h))\n",
    "# plt.xlim(0, 2050)\n",
    "plt.plot(f_n_k, 'o', color='blue')\n",
    "plt.title('mu =' + str(mu) + ', ' + 'flow_{n} - flow_{k}')\n",
    "plt.savefig(multi_root + 'flow_{n} - flow_{k}.png')"
   ]
  },
  {
   "cell_type": "raw",
   "metadata": {},
   "source": [
    "w = 8\n",
    "h = 6\n",
    "plt.figure(figsize=(w, h))\n",
    "plt.xlim(-500, 4999)\n",
    "# plt.ylim(0.01, 0.05)\n",
    "plt.plot(t, 'o', color='red')\n",
    "plt.title('mu =' + str(mu) + ', ' + 'time_{k} - time_{k-1}')\n",
    "plt.savefig(multi_root + 'time_{k} - time_{k-1}.png')"
   ]
  },
  {
   "cell_type": "raw",
   "metadata": {},
   "source": [
    "w = 8\n",
    "h = 6\n",
    "plt.figure(figsize=(w, h))\n",
    "# plt.ylim(117937, 117923)\n",
    "# plt.ylim(0, 1)\n",
    "plt.plot(t_n_k, 'o', color='pink')\n",
    "plt.title('mu =' + str(mu) + ', ' + 'time_{n} - time_{k}')\n",
    "plt.savefig(multi_root + 'time_{n} - time_{k}.png')"
   ]
  },
  {
   "cell_type": "raw",
   "metadata": {},
   "source": [
    "w = 8\n",
    "h = 6\n",
    "plt.figure(figsize=(w, h))\n",
    "# plt.ylim(0, 2)\n",
    "# plt.ylim(67000, 62500)\n",
    "plt.plot(c, 'o', color='cyan')\n",
    "plt.title('mu =' + str(mu) + ', ' + 'corr_{k} - corr_{k-1}')\n",
    "plt.savefig(multi_root + 'corr_{k} - corr_{k-1}.png')"
   ]
  },
  {
   "cell_type": "raw",
   "metadata": {},
   "source": [
    "w = 8\n",
    "h = 6\n",
    "plt.figure(figsize=(w, h))\n",
    "# plt.ylim(117937, 117923)\n",
    "# plt.ylim(0, 200)\n",
    "plt.plot(c_n_k, 'o', color='magenta')\n",
    "plt.title('mu =' + str(mu) + ', ' + 'corr_{n} - corr_{k}')\n",
    "plt.savefig(multi_root + 'corr_{n} - corr_{k}.png')"
   ]
  },
  {
   "cell_type": "markdown",
   "metadata": {},
   "source": [
    "#### ITERATION"
   ]
  },
  {
   "cell_type": "code",
   "execution_count": null,
   "metadata": {},
   "outputs": [],
   "source": [
    "import numpy as np\n",
    "import matplotlib.pyplot as plt\n",
    "\n",
    "%matplotlib inline\n",
    "\n",
    "multi_root = 'KEV_res/multi/'# mu =0.0/'\n",
    "iter_root = 'KEV_res/iter/' #mu =0.0/'\n",
    "\n",
    "flows = 'flows/'\n",
    "corrs = 'corr_matrix/'\n",
    "times = 'times/'"
   ]
  },
  {
   "cell_type": "code",
   "execution_count": null,
   "metadata": {},
   "outputs": [],
   "source": [
    "n = 100\n",
    "mu = 0.25\n",
    "\n",
    "f = []\n",
    "c = []\n",
    "t = []\n",
    "f_n_k = []\n",
    "c_n_k = []\n",
    "t_n_k = []\n",
    "\n",
    "flow_n = np.loadtxt(iter_root + flows + str(n-1) + '_flows.txt', \n",
    "                          delimiter = ' ')\n",
    "time_n = np.loadtxt(iter_root + times + str(n-1) + '_time.txt', \n",
    "                          delimiter = ' ')\n",
    "corr_n = np.loadtxt(iter_root + corrs + str(n-1) + '_corr_matrix.txt', \n",
    "                          delimiter = ' ')\n",
    "\n",
    "for ms_i in range(0, n):\n",
    "    if ms_i == 0:\n",
    "        flow_0 = np.loadtxt(iter_root + flows + str(ms_i) + '_flows.txt', \n",
    "                          delimiter = ' ')\n",
    "        time_0 = np.loadtxt(iter_root + times + str(ms_i) + '_time.txt', \n",
    "                          delimiter = ' ')\n",
    "        corr_0 = np.loadtxt(iter_root + corrs + str(ms_i) + '_corr_matrix.txt', \n",
    "                          delimiter = ' ')\n",
    "        \n",
    "        f_n_k.append(np.linalg.norm(flow_n - flow_0))\n",
    "        t_n_k.append(np.linalg.norm(time_n - time_0))\n",
    "        c_n_k.append(np.linalg.norm(corr_n - corr_0))\n",
    "    else:\n",
    "        flow = np.loadtxt(iter_root + flows + str(ms_i) + '_flows.txt', \n",
    "                          delimiter = ' ')\n",
    "        time = np.loadtxt(iter_root + times + str(ms_i) + '_time.txt', \n",
    "                          delimiter = ' ')\n",
    "        corr = np.loadtxt(iter_root + corrs + str(ms_i) + '_corr_matrix.txt', \n",
    "                          delimiter = ' ')\n",
    "        \n",
    "        f.append(np.linalg.norm(flow - flow_0))\n",
    "        t.append(np.linalg.norm(time - time_0))\n",
    "        c.append(np.linalg.norm(corr - corr_0))\n",
    "        \n",
    "        flow_0 = flow\n",
    "        time_0 = time\n",
    "        \n",
    "        f_n_k.append(np.linalg.norm(flow_n - flow))\n",
    "        t_n_k.append(np.linalg.norm(time_n - time))\n",
    "        c_n_k.append(np.linalg.norm(corr_n - corr))"
   ]
  },
  {
   "cell_type": "code",
   "execution_count": null,
   "metadata": {},
   "outputs": [],
   "source": [
    "t, f"
   ]
  },
  {
   "cell_type": "code",
   "execution_count": null,
   "metadata": {},
   "outputs": [],
   "source": [
    "w = 8\n",
    "h = 6\n",
    "plt.figure(figsize=(w, h))\n",
    "# plt.ylim(4000, 6000)\n",
    "plt.plot(f, 'o', color='green')\n",
    "plt.title('mu =' + str(mu) + ', ' 'flow_{k} - flow_{k-1}')\n",
    "plt.savefig(iter_root + 'flow_{k} - flow_{k-1}.png')"
   ]
  },
  {
   "cell_type": "code",
   "execution_count": null,
   "metadata": {},
   "outputs": [],
   "source": [
    "w = 8\n",
    "h = 6\n",
    "plt.figure(figsize=(w, h))\n",
    "plt.ylim(0, 65000)\n",
    "plt.plot(f_n_k, 'o', color='blue')\n",
    "plt.title('mu =' + str(mu) + ', ' 'flow_{n} - flow_{k}')\n",
    "plt.savefig(iter_root + 'flow_{n} - flow_{k}.png')"
   ]
  },
  {
   "cell_type": "code",
   "execution_count": null,
   "metadata": {},
   "outputs": [],
   "source": [
    "w = 8\n",
    "h = 6\n",
    "plt.figure(figsize=(w, h))\n",
    "# plt.xlim(999)\n",
    "# plt.ylim(0, 35000)\n",
    "plt.plot(t, 'o', color='red')\n",
    "plt.title('mu =' + str(mu) + ', ' 'time_{k} - time_{k-1}')\n",
    "plt.savefig(iter_root + 'time_{k} - time_{k-1}.png')"
   ]
  },
  {
   "cell_type": "code",
   "execution_count": null,
   "metadata": {},
   "outputs": [],
   "source": [
    "w = 8\n",
    "h = 6\n",
    "plt.figure(figsize=(w, h))\n",
    "# plt.ylim(117937, 117923)\n",
    "plt.plot(t_n_k, 'o', color='pink')\n",
    "plt.title('mu =' + str(mu) + ', ' 'time_{n} - time_{k}')\n",
    "plt.savefig(iter_root + 'time_{n} - time_{k}.png')"
   ]
  },
  {
   "cell_type": "code",
   "execution_count": null,
   "metadata": {},
   "outputs": [],
   "source": [
    "w = 8\n",
    "h = 6\n",
    "plt.figure(figsize=(w, h))\n",
    "# plt.ylim(0, 2)\n",
    "# plt.ylim(67000, 62500)\n",
    "plt.plot(c, 'o', color='cyan')\n",
    "plt.title('mu =' + str(mu) + ', ' + 'corr_{k} - corr_{k-1}')\n",
    "plt.savefig(iter_root + 'corr_{k} - corr_{k-1}.png')"
   ]
  },
  {
   "cell_type": "code",
   "execution_count": null,
   "metadata": {},
   "outputs": [],
   "source": [
    "w = 8\n",
    "h = 6\n",
    "plt.figure(figsize=(w, h))\n",
    "# plt.ylim(117937, 117923)\n",
    "# plt.ylim(0, 200)\n",
    "plt.plot(c_n_k, 'o', color='magenta')\n",
    "plt.title('mu =' + str(mu) + ', ' + 'corr_{n} - corr_{k}')\n",
    "plt.savefig(iter_root + 'corr_{n} - corr_{k}.png')"
   ]
  },
  {
   "cell_type": "code",
   "execution_count": null,
   "metadata": {},
   "outputs": [],
   "source": []
  }
 ],
 "metadata": {
  "kernelspec": {
   "display_name": "Python 3",
   "language": "python",
   "name": "python3"
  },
  "language_info": {
   "codemirror_mode": {
    "name": "ipython",
    "version": 3
   },
   "file_extension": ".py",
   "mimetype": "text/x-python",
   "name": "python",
   "nbconvert_exporter": "python",
   "pygments_lexer": "ipython3",
   "version": "3.7.2"
  }
 },
 "nbformat": 4,
 "nbformat_minor": 2
}
