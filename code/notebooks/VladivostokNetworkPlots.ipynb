{
 "cells": [
  {
   "cell_type": "code",
   "execution_count": null,
   "metadata": {},
   "outputs": [],
   "source": [
    "import pandas as pd\n",
    "import matplotlib.pyplot as plt\n",
    "import seaborn as sns\n",
    "import plotly.express as px\n",
    "import plotly.graph_objects as go\n",
    "import plotly.io as pio\n",
    "pio.renderers.default='notebook'\n",
    "import numpy as np\n",
    "df = pd.read_csv('../data/SiouxFalls_net.tntp', sep='\\t',skiprows=6)\n",
    "df"
   ]
  },
  {
   "cell_type": "code",
   "execution_count": null,
   "metadata": {},
   "outputs": [],
   "source": [
    "# BPR function\n",
    "f = np.linspace(0, 20000, 150)\n",
    "t = 1 * (1 + 0.15*(f/5000))**4\n",
    "plt.plot(f, t)"
   ]
  },
  {
   "cell_type": "code",
   "execution_count": null,
   "metadata": {
    "scrolled": false
   },
   "outputs": [],
   "source": [
    "links = pd.read_csv('../data/vl_links.txt', sep='\\t',skiprows=0)\n",
    "links_ab = links[['ANODE', 'BNODE', 'cap_ab', 'LENGTH']]\n",
    "links_ab.columns = ['init_node', 'term_node', 'capacity', 'free_flow_time']\n",
    "links_ba = links[['ANODE', 'BNODE', 'cap_ba', 'LENGTH']]\n",
    "links_ba.columns = ['init_node', 'term_node', 'capacity', 'free_flow_time']\n",
    "links_code = links_ab.append(links_ba, ignore_index=True)\n",
    "\n",
    "df_inv = links_code.copy()\n",
    "df_inv.columns = ['term_node', 'init_node', 'capacity', 'free_flow_time'] # make graph effectively undirected\n",
    "links_code = links_code.append(df_inv, ignore_index=True)\n",
    "links_code = links_code[links_code.capacity > 0]\n",
    "\n",
    "links_code.drop_duplicates(inplace=True)\n"
   ]
  },
  {
   "cell_type": "code",
   "execution_count": null,
   "metadata": {},
   "outputs": [],
   "source": [
    "px.histogram(links.LENGTH)"
   ]
  },
  {
   "cell_type": "code",
   "execution_count": null,
   "metadata": {},
   "outputs": [],
   "source": [
    "df = pd.read_csv('../data/vl_al.txt', sep='\\t',skiprows=0)\n",
    "df"
   ]
  },
  {
   "cell_type": "code",
   "execution_count": null,
   "metadata": {},
   "outputs": [],
   "source": [
    "px.histogram(links.speed_ab, nbins=20)\n",
    "#plt.plot(links.cap_ba)"
   ]
  },
  {
   "cell_type": "code",
   "execution_count": null,
   "metadata": {},
   "outputs": [],
   "source": [
    "nodes = pd.read_csv('../data/vl_nodes.txt', sep='\\t',skiprows=0)\n",
    "nodes"
   ]
  },
  {
   "cell_type": "code",
   "execution_count": null,
   "metadata": {},
   "outputs": [],
   "source": [
    "def coords(id):\n",
    "    n = nodes[nodes.node == id]\n",
    "    return n.iloc[:,1:].to_numpy()[0]\n",
    "def dist(id1, id2):\n",
    "    return ((coords(id1) - coords(id2))**2).sum()**0.5\n",
    "dist(152522, 50303)\n",
    "    "
   ]
  },
  {
   "cell_type": "code",
   "execution_count": null,
   "metadata": {},
   "outputs": [],
   "source": [
    "mak = links[(links.STREET=='улица Маковского')] #& (links.lanes_ba > 0)]\n",
    "anodes, bnodes = mak.ANODE.to_numpy(), mak.BNODE.to_numpy()\n",
    "acoords = np.array([[coords(id)[0], coords(id)[1]] for id in anodes]).T \n",
    "bcoords = np.array([[coords(id)[0], coords(id)[1]] for id in bnodes]).T \n",
    "\n",
    "x, y = acoords[0], acoords[1] \n",
    "#px.scatter(x=acoords[0], y=acoords[1])\n",
    "\n",
    "fig = go.Figure()\n",
    "\n",
    "# Add traces\n",
    "fig.add_trace(go.Scatter(x=x, y=y,\n",
    "                    mode='markers',\n",
    "                    name='markers',\n",
    "                        marker_color='black'))\n",
    "x, y = bcoords[0], bcoords[1] \n",
    "fig.add_trace(go.Scatter(x=x, y=y,\n",
    "                    mode='markers',\n",
    "                    name='markers',\n",
    "                        marker_color='blue'))\n",
    "fig.add_trace(go.Scatter(x=[coords(86881)[0]], y=[coords(86881)[1]],\n",
    "                    mode='markers',\n",
    "                    name='markers',\n",
    "                        marker_color='magenta'))"
   ]
  },
  {
   "cell_type": "code",
   "execution_count": null,
   "metadata": {},
   "outputs": [],
   "source": [
    "mak[mak.ANODE==86881]"
   ]
  },
  {
   "cell_type": "code",
   "execution_count": null,
   "metadata": {},
   "outputs": [],
   "source": [
    "emp = pd.read_csv('../data/emps.csv', sep='\\t')\n",
    "emp"
   ]
  },
  {
   "cell_type": "code",
   "execution_count": null,
   "metadata": {},
   "outputs": [],
   "source": [
    "emp['post_codes'] = emp.address.apply(lambda x : x.split(',')[0])\n",
    "emp_pcodes = emp[['post_codes', 'emp']].groupby('post_codes').sum()['emp']\n",
    "emp_pcodes = pd.to_numeric(emp_pcodes, 'coerce').dropna()\n",
    "# px.histogram(emp_pcodes, nbins=216)\n",
    "sns.boxplot(emp_pcodes)"
   ]
  },
  {
   "cell_type": "raw",
   "metadata": {},
   "source": [
    "R = 6371 * 1000\n",
    "ax = R * np.pi / 180 * np.cos((emp.lat * np.pi / 180).mean()) \n",
    "emp['x'] = emp.lon * ax\n",
    "ay = R * np.pi / 180\n",
    "emp['y'] = emp.lat * ay\n",
    "emp.x = emp.x  -570e6\n",
    "emp.y = emp.y - 270e6\n",
    "emp['size'] = emp.emp.apply(lambda x: x**0.5)"
   ]
  },
  {
   "cell_type": "code",
   "execution_count": null,
   "metadata": {
    "scrolled": false
   },
   "outputs": [],
   "source": [
    "ans = links.set_index('ANODE').join(nodes.set_index('node'))[['type', 'x', 'y']]\n",
    "ans['size'] = ((ans['type'] == 'MAJOR') * 5 + (ans['type'] == 'MINOR') * 3 + 1)/5\n",
    "ans['color'] = -2 #ans['size']\n",
    "ans.x -= 4 # to distinguish a and b til implement directed edges \n",
    "#ans.y -= 1\n",
    "ans['sym'] = ['triangle-up']*ans.shape[0]\n",
    "\n",
    "\n",
    "# fig = px.scatter(ans, x='x', y='y', color='color', size='size', text=ans.index)\n",
    "bns = links.set_index('BNODE').join(nodes.set_index('node'))[['type', 'x', 'y']]\n",
    "bns['size'] = ((bns['type'] == 'MAJOR') * 5 + (bns['type'] == 'MINOR') * 3 + 1)/5\n",
    "bns['color'] = -3 #-bns['size']\n",
    "bns['sym'] = ['triangle-down']*bns.shape[0]\n",
    "bns.x += 4\n",
    "#bns.y += 1\n",
    "# nsize.x = nsize.x / 1e6\n",
    "# nsize.y = nsize.y / 1e6\n",
    "ns = ans.append(bns, ignore_index=True)\n",
    "\n",
    "\n",
    "    \n",
    "nds = nodes.set_index('node')\n",
    "x, y, node = [], [], []\n",
    "xa, xb, ya, yb = [], [], [], []\n",
    "for i in links_code.index:\n",
    "    an, bn = links_code.init_node[i], links_code.term_node[i]\n",
    "    x += [nds.x[an], nds.x[bn], None]\n",
    "    y += [nds.y[an], nds.y[bn], None]\n",
    "    xa.append(nds.x[an]); xb.append(nds.x[bn]); ya.append(nds.y[an]); yb.append(nds.y[bn]); \n",
    "    node += [an, bn, None]\n",
    "    \n",
    "edges = pd.DataFrame({'x':x, 'y':y, 'node':node})\n",
    "links_code['xa'], links_code['xb'], links_code['ya'], links_code['yb'] = xa, xb, ya, yb\n"
   ]
  },
  {
   "cell_type": "code",
   "execution_count": null,
   "metadata": {},
   "outputs": [],
   "source": [
    "# try project manually\n",
    "x0 = np.array([736130.6, 4761298])\n",
    "y0 = np.array([42.967722, 131.895320])[::-1]\n",
    "x1 = np.array([763430, 4807718])\n",
    "y1 = np.array([43.375730, 132.251674])[::-1]\n",
    "a = (y1 - y0) / (x1 - x0)\n",
    "# b = y0 - a * x0\n",
    "# emp['x'] = emp.lat * a[0] - R[0]\n",
    "# emp['y'] = emp.lon * a[1] - R[1]\n",
    "R = x0 * a - y0\n",
    "\n",
    "def to_lon(x):\n",
    "    return x * a[0] - R[0]\n",
    "\n",
    "def to_lat(y):\n",
    "    return y * a[1] - R[1] \n",
    "    "
   ]
  },
  {
   "cell_type": "code",
   "execution_count": null,
   "metadata": {},
   "outputs": [],
   "source": [
    "from pyproj import *\n",
    "inProj = CRS.from_string('EPSG:32652')\n",
    "outProj = CRS.from_string('epsg:4326')\n",
    "x1,y1 = -11705274.6374,4826473.6922\n",
    "proj = Transformer.from_crs(inProj, outProj)\n",
    "# compare with manual projection\n",
    "proj.transform(ns.x[0], ns.y[0]), (to_lon(ns.x[0]), to_lat(ns.y[0]))"
   ]
  },
  {
   "cell_type": "code",
   "execution_count": null,
   "metadata": {},
   "outputs": [],
   "source": [
    "del to_lon\n",
    "del to_lat"
   ]
  },
  {
   "cell_type": "code",
   "execution_count": null,
   "metadata": {},
   "outputs": [],
   "source": [
    "def to_lat_lon(x, y):\n",
    "    return proj.transform(x, y)\n",
    "inverse_proj = Transformer.from_crs(outProj, inProj)\n",
    "def from_lat_lon(lat, lon):\n",
    "    return inverse_proj.transform(lat, lon)"
   ]
  },
  {
   "cell_type": "code",
   "execution_count": null,
   "metadata": {},
   "outputs": [],
   "source": [
    "edges['lat'], edges['lon'] = to_lat_lon(edges.x, edges.y)\n",
    "ns['lat'], ns['lon'] = to_lat_lon(ns.x, ns.y) \n",
    "nodes['lat'], nodes['lon'] = to_lat_lon(nodes.x, nodes.y)\n",
    "emp['x'], emp['y'] = from_lat_lon(emp.lat, emp.lon)"
   ]
  },
  {
   "cell_type": "code",
   "execution_count": null,
   "metadata": {},
   "outputs": [],
   "source": [
    "# d_inv = dict(enumerate(emp.district.unique()))\n",
    "d_inv = {\n",
    "    0: 'Советский',\n",
    "    1: 'Первореченский',\n",
    "    2: 'Ленинский',\n",
    "    3: np.NaN,\n",
    "    4: 'Фрунзенский',\n",
    "    5: 'Первомайский'\n",
    "}\n",
    "d = {v: k for k, v in d_inv.items()}\n",
    "d_inv"
   ]
  },
  {
   "cell_type": "code",
   "execution_count": null,
   "metadata": {},
   "outputs": [],
   "source": [
    "emp['coord'] = emp.lat.apply(str) + \" \" + emp.lon.apply(str)\n",
    "emp['dis'] = emp.district.apply(lambda x : d[x])\n",
    "px.scatter(emp[emp.dis != d[np.NaN]], x='x', y='y', size='emp', color='dis')#, symbol='sym')#, "
   ]
  },
  {
   "cell_type": "code",
   "execution_count": null,
   "metadata": {},
   "outputs": [],
   "source": [
    "def get_cell(df, lon, lat):\n",
    "    return df[(df.lon > lon[0]) & (df.lon < lon[1]) & (df.lat > lat[0]) & (df.lat < lat[1])]\n",
    "\n",
    "emp['coord'] = emp.lat.apply(str) + \" \" + emp.lon.apply(str)\n",
    "emp['dis'] = emp.district.apply(lambda x : d[x])\n",
    "emp_vl = emp[emp.dis != d[np.NaN]]\n",
    "# emp_f = emp[(emp.lon > 131.5) & (emp.lon < 132.5) & (emp.lat > 42.9) & (emp.lat < 43.5)]\n",
    "main_cell = [[131.7, 132.4], [42.9, 43.5]]\n",
    "emp_f = get_cell(emp, *main_cell)\n",
    "\n",
    "emp_f = emp_f[~((emp_f.lon > 132.2) & (emp_f.lat < 43.2))]\n",
    "# emp_f = emp_f[emp_f['dis'] == 1]\n",
    "\n",
    "# px.scatter(emp_vl, x='lon', y='lat', size='emp', color='dis')#, symbol='sym')#, "
   ]
  },
  {
   "cell_type": "code",
   "execution_count": null,
   "metadata": {},
   "outputs": [],
   "source": [
    "houses = pd.read_csv('../data/housedata.csv')\n",
    "houses['area'] = pd.to_numeric(houses.AREA, 'coerce')\n",
    "houses['rooms'] = pd.to_numeric(houses.ROOM_COUNT, 'coerce')\n",
    "print(houses.area.isna().sum(), houses.rooms.isna().sum())\n",
    "houses = houses[['LON', 'LAT', 'area']].dropna()\n",
    "houses.columns = ['lon', 'lat', 'area']\n",
    "houses = get_cell(houses, *main_cell) \n",
    "houses.shape"
   ]
  },
  {
   "cell_type": "code",
   "execution_count": null,
   "metadata": {},
   "outputs": [],
   "source": [
    "borders_lon, borders_lat = [], []\n",
    "MIN_COUNT = 10\n",
    "MAX_SUM = 2000\n",
    "emp_f['value'] = emp_f.emp\n",
    "def split(df, n, lon, lat):\n",
    "    global borders_lon, borders_lat\n",
    "    cells = []\n",
    "    lons = np.linspace(*lon, n[0]+1)\n",
    "    lats = np.linspace(*lat, n[1]+1)\n",
    "    \n",
    "    for lon in zip(lons[:-1], lons[1:]):\n",
    "        for lat in zip(lats[:-1], lats[1:]):\n",
    "            cell_jobs = get_cell(emp_f, lon, lat)\n",
    "            cell_nodes = get_cell(nodes, lon, lat)\n",
    "            cell_res = get_cell(houses, lon, lat)\n",
    "            if cell_jobs.shape[0] > 0:\n",
    "                \n",
    "                if cell_jobs.value.sum() > MAX_SUM and cell_jobs.shape[0] > MIN_COUNT:\n",
    "                    cells += split(cell_jobs, n, lon, lat)\n",
    "                else:\n",
    "                    borders_lon += [*lon, *lon[::-1], lon[0], None]\n",
    "                    borders_lat += [lat[0], lat[0], lat[1], lat[1], lat[0], None]\n",
    "#                     cell = cell.copy()\n",
    "#                     cell['color'] = [np.random.random()]*cell.shape[0]\n",
    "                    cells.append([cell_jobs, cell_nodes, cell_res])\n",
    "    return cells\n",
    "        \n",
    "cells = split(emp_f, (2,2), *main_cell)\n",
    "# px.line(x=borders_lon, y=borders_lat)"
   ]
  },
  {
   "cell_type": "code",
   "execution_count": null,
   "metadata": {},
   "outputs": [],
   "source": [
    "cells[0]\n",
    "for cell_job, _, cell_res in cells:\n",
    "    mass_center = np.array([(cell_job.lat * cell_job.emp).sum(), (cell_job.lon * cell_job.emp).sum()])\n",
    "    mass_center /= cell_job.emp.sum()\n",
    "    cell_job.mass_center = mass_center\n",
    "    \n",
    "    if cell_res.shape[0] > 0:\n",
    "        mass_center = np.array([(cell_res.lat * cell_res.area).sum(), (cell_res.lon * cell_res.area).sum()])\n",
    "        mass_center /= cell_res.area.sum()\n",
    "        cell_res.mass_center = mass_center\n",
    "    else:\n",
    "        cell_res.mass_center = cell_job.mass_center\n",
    "        \n",
    "# ns"
   ]
  },
  {
   "cell_type": "code",
   "execution_count": null,
   "metadata": {},
   "outputs": [],
   "source": [
    "%%time\n",
    "from geopy.distance import geodesic\n",
    "# TODO use projections\n",
    "\n",
    "# ndf = ns.drop(['sym', 'type', 'color', 'size'], axis=1).drop_duplicates()\n",
    "for cell_job, cell_nodes, cell_res in cells:\n",
    "    for cell in cell_job, cell_res:\n",
    "        n = cell.mass_center\n",
    "        dists = cell_nodes.apply(lambda x : geodesic((x.lat, x.lon), (n[0], n[1])).km, axis=1)\n",
    "\n",
    "        cell.nearest = cell_nodes.iloc[dists.argmin()] if dists.shape[0] > 0 else None\n",
    "        # Series got by iloc has all fields casted to float for some reason, so to keep int:\n",
    "        cell.nearest_id = cell_nodes.node.iloc[dists.argmin()] if dists.shape[0] > 0 else None\n",
    "    \n",
    "#     print(cell.nearest.shape if not isinstance(cell.nearest, type(None)) else None)\n",
    "    \n",
    "\n"
   ]
  },
  {
   "cell_type": "code",
   "execution_count": null,
   "metadata": {
    "scrolled": false
   },
   "outputs": [],
   "source": [
    "traces = []\n",
    "# fig = px.scatter(ns, x='lon', y='lat', color='color', size='size', opacity=0.3)#, symbol='sym')#, text=nsize.index)\n",
    "# traces += [go.Scatter(\n",
    "#     x=ns.lon,\n",
    "#     y=ns.lat,\n",
    "#     mode='markers',\n",
    "#     marker=dict(size=ns.size, color=ns.color)\n",
    "#     )]\n",
    "\n",
    "# traces.append(\n",
    "#     go.Scatter(\n",
    "#         x=emp_f.lon,\n",
    "#         y=emp_f.lat,\n",
    "#         mode='markers',\n",
    "#         marker=dict(size=np.log(emp_f.emp.values + 1)*5,\n",
    "#                 color=emp_f.dis, opacity = 0.7)\n",
    "#     )\n",
    "# )\n",
    "for cell, _, _ in cells:\n",
    "    traces.append(\n",
    "        go.Scatter(\n",
    "            x=cell.lon,\n",
    "            y=cell.lat,\n",
    "            mode='markers',\n",
    "            marker=dict(size=np.log(emp_f.emp.values + 1)*5, # (emp_f.emp.values/emp_f.emp.mean())**0.5*7,\n",
    "                     opacity = 1)\n",
    "#             marker=dict(size=np.log(emp_f.emp.values + 1)*5, # (emp_f.emp.values/emp_f.emp.mean())**0.5*7,\n",
    "        )\n",
    "    )\n",
    "for cell, _, _ in cells:\n",
    "    traces.append(\n",
    "        go.Scatter(\n",
    "            x=(cell.mass_center[1],),\n",
    "            y=(cell.mass_center[0],),\n",
    "            mode='markers',\n",
    "            marker=dict(size=5, # (emp_f.emp.values/emp_f.emp.mean())**0.5*7,\n",
    "                     opacity = 1, color='red')\n",
    "            \n",
    "        )\n",
    "    )\n",
    "    \n",
    "# for _, _, cell_res in cells:\n",
    "#     if not isinstance(cell_res.nearest, type(None)):\n",
    "#         traces.append(\n",
    "#             go.Scatter(\n",
    "#                 x=(cell_res.nearest.lon,),\n",
    "#                 y=(cell_res.nearest.lat,),\n",
    "#                 mode='markers',\n",
    "#                 marker_symbol='square',\n",
    "#                 marker=dict(size=5, # (emp_f.emp.values/emp_f.emp.mean())**0.5*7,\n",
    "#                          opacity = 1, color='black')\n",
    "    \n",
    "#             )\n",
    "# )\n",
    "\n",
    "\n",
    "for cell, _, _ in cells:\n",
    "    if not isinstance(cell.nearest, type(None)):\n",
    "        traces.append(\n",
    "            go.Scatter(\n",
    "                x=(cell.nearest.lon,),\n",
    "                y=(cell.nearest.lat,),\n",
    "                mode='markers',\n",
    "                marker=dict(size=5, # (emp_f.emp.values/emp_f.emp.mean())**0.5*7,\n",
    "                         opacity = 1, color='black')\n",
    "                \n",
    "            )\n",
    "        )\n",
    "\n",
    "# houses\n",
    "\n",
    "# traces.append(\n",
    "#     go.Scatter(\n",
    "#         x=houses.lon,\n",
    "#         y=houses.lat,\n",
    "#         mode='markers',\n",
    "#         marker=dict(size=houses.area/houses.area.mean()*2, opacity = 1, color='red')\n",
    "#     )\n",
    "# )\n",
    "\n",
    "# graph \n",
    "\n",
    "traces.append(\n",
    "    go.Scattergl(\n",
    "            x=edges.lon,\n",
    "            y=edges.lat,\n",
    "            line=dict(color='green'),\n",
    "# segment colors dont work in plotly   marker=dict(color=np.random.random(len(edges.lon)), cmin=0, cmax=1)\n",
    "    )\n",
    ")\n",
    "\n",
    "# cell borders\n",
    "\n",
    "traces.append(\n",
    "    go.Scatter(\n",
    "            x=borders_lon,\n",
    "            y=borders_lat,\n",
    "            line=dict(color='grey')\n",
    "    )\n",
    ")\n",
    "\n",
    "# selected sources/sinks\n",
    "\n",
    "# traces.append(\n",
    "#     go.Scatter(\n",
    "#         x=trips_nodes.lon,\n",
    "#         y=trips_nodes.lat,\n",
    "#         mode='markers',\n",
    "#         marker_symbol='square',\n",
    "#         marker=dict(size=20,\n",
    "#                     line=dict(width=5,color='black'),\n",
    "#                 color=trips_nodes.dis)#, opacity = 0.8)\n",
    "#     )\n",
    "# )\n",
    "\n",
    "\n",
    "# traces.append(go.Scatter(x=(132.038762,),y=(43.354943,), line=dict(color='grey'), mode='markers',\n",
    "#                 marker_symbol='square',\n",
    "#                 marker=dict(size=20,color='pink'), opacity=0.5 ))\n",
    "fig = go.Figure(data=traces)\n",
    "\n",
    "fig.update_layout(\n",
    "    autosize=False,\n",
    "    width=1000,\n",
    "    height=900,\n",
    "    paper_bgcolor='white',\n",
    "    plot_bgcolor='white',\n",
    "    yaxis_title = 'Широта, градусы',\n",
    "    xaxis_title = 'Долгота, градусы',\n",
    "    font = {'size':18} ,\n",
    "#     showlegend=False,\n",
    ")\n",
    "\n",
    "fig.update_yaxes(\n",
    "    scaleanchor = \"x\",\n",
    "    scaleratio = a[0]/a[1],\n",
    "    range=[43.035, 43.2],\n",
    "  )\n",
    "fig.update_xaxes(range=[131.8, 132.1])\n",
    "fig.update_traces(opacity=0.3, selector=dict(type='scattergl'))\n",
    "fig.update_traces(text=edges.node, selector=dict(type='scattergl'))\n",
    "# fig.write_image(\"network.eps\")\n",
    "# fig.write_image(\"network.png\")\n",
    "fig.show()\n"
   ]
  },
  {
   "cell_type": "code",
   "execution_count": null,
   "metadata": {},
   "outputs": [],
   "source": [
    "lon = 131.882, 131.89\n",
    "lat = 43.117, 43.124\n",
    "from_lat_lon(lat[0], lon[0])\n",
    "\n"
   ]
  },
  {
   "cell_type": "markdown",
   "metadata": {},
   "source": [
    "## Cut testing subnetwork"
   ]
  },
  {
   "cell_type": "code",
   "execution_count": null,
   "metadata": {},
   "outputs": [],
   "source": [
    "xa, xb, ya, yb =[], [], [], []\n",
    "for i in links.index:\n",
    "    an, bn = links.ANODE[i], links.BNODE[i]\n",
    "    xa.append(nds.x[an]); xb.append(nds.x[bn]); ya.append(nds.y[an]); yb.append(nds.y[bn]); \n",
    "    node += [an, bn, None]\n",
    "    \n",
    "links['xa'], links['xb'], links['ya'], links['yb'] = xa, xb, ya, yb\n",
    "\n",
    "x0, y0 = from_lat_lon(lat[0], lon[0])\n",
    "x1, y1 = from_lat_lon(lat[1], lon[1])\n",
    "\n",
    "links_test = links[links.xa >= x0 ][ links.xb >= x0 ][ links.ya >= y0 ][ links.yb >= y0]\n",
    "links_test = links_test[links_test.xa <= x1 ][ links_test.xb <= x1 ][ links_test.ya <= y1 ][ links_test.yb <= y1]\n",
    "\n",
    "emp = emp.drop(['Unnamed: 0', 'Unnamed: 0.1'], axis=1)\n",
    "emp_test = emp[emp.x >= x0 ][ emp.y >= y0][emp.x <= x1 ][ emp.y <= y1 ]\n",
    "# emp_test.to_csv('../data/emps_test.csv', sep='\\t')\n",
    "# links_test.to_csv('../data/vl_links_test.txt', sep='\\t')\n"
   ]
  },
  {
   "cell_type": "markdown",
   "metadata": {},
   "source": [
    "# Correspondences by cells"
   ]
  },
  {
   "cell_type": "code",
   "execution_count": null,
   "metadata": {},
   "outputs": [],
   "source": [
    "L, W = {}, {}\n",
    "res_total = sum(cell_res.area.sum() for _, _, cell_res in cells )\n",
    "emp_total = sum(cell_emp.emp.sum() for cell_emp, _, _ in cells )\n",
    "print(emp_total, res_total)\n",
    "for cell_emp, _, cell_res in cells:\n",
    "    L[cell_emp.nearest_id] = max(1, cell_emp.emp.sum())\n",
    "#     W[cell_res.nearest_id] = int(cell_res.area.sum() / res_total * emp_total)\n",
    "    # use one node for source and sink: division by zero in sinkhorn \n",
    "    W[cell_emp.nearest_id] = max(10, int(cell_res.area.sum() / res_total * emp_total))\n",
    "\n",
    "    \n",
    "if None in W :\n",
    "    del W[None]\n",
    "    del L[None]\n",
    "\n",
    "for k, v in W.items():\n",
    "    W[k] -= min(v-10, - sum(L.values()) + sum(W.values()), 100)\n",
    "\n",
    "print(sum(L.values()), sum(W.values()))\n",
    "\n",
    "trip_nodes, Ll, Wl = [], [], []\n",
    "for k in L.keys() | W.keys():\n",
    "    trip_nodes.append(k)\n",
    "    Ll.append(L[k] if k in L else 0)\n",
    "    Wl.append(W[k] if k in W else 0)\n",
    "\n",
    "    \n",
    "with open('../data/vl_trips.txt', 'w') as f:\n",
    "    f.write('trip nodes, L, W\\n')\n",
    "    f.write(' '.join([str(n) for n in trip_nodes]) + '\\n')\n",
    "    f.write(' '.join([str(n) for n in Ll]) + '\\n')\n",
    "    f.write(' '.join([str(n) for n in Wl]) + '\\n')\n",
    "    \n",
    "    \n",
    "    \n",
    "\n",
    "    \n",
    "    \n",
    "    \n",
    "    "
   ]
  },
  {
   "cell_type": "code",
   "execution_count": null,
   "metadata": {},
   "outputs": [],
   "source": [
    "cells[0][0].nearest"
   ]
  },
  {
   "cell_type": "code",
   "execution_count": null,
   "metadata": {},
   "outputs": [],
   "source": [
    "with open('../data/soursinks.csv', 'w') as f:\n",
    "    f.write('x,y\\n')\n",
    "    for cell_emp, _, cell_res in cells:\n",
    "        n = cell_emp.nearest\n",
    "        if not isinstance(n, type(None)):\n",
    "            f.write(f'{n.x},{n.y}\\n')\n",
    "    "
   ]
  },
  {
   "cell_type": "code",
   "execution_count": null,
   "metadata": {},
   "outputs": [],
   "source": [
    "len(trip_nodes)"
   ]
  },
  {
   "cell_type": "code",
   "execution_count": null,
   "metadata": {},
   "outputs": [],
   "source": [
    "len(L.keys() | W.keys())"
   ]
  },
  {
   "cell_type": "markdown",
   "metadata": {},
   "source": [
    "# Manual correspondences"
   ]
  },
  {
   "cell_type": "code",
   "execution_count": null,
   "metadata": {},
   "outputs": [],
   "source": [
    "trips_nodes_dict = {\n",
    "        'Первомайский' : [98866, 7207, 113059, 95578, 40490],\n",
    "        'Ленинский' : [642953, 33705, 512055, 98893, 500285],\n",
    "        'Фрунзенский' : [7870, 453482, 4049, 4257, 4306],\n",
    "        'Первореченский' : [43005, 608219, 567092, 11011, 79983],\n",
    "        'Советский' : [5949, 12012, 678253, 746461, 768114]\n",
    "    }\n",
    "\n",
    "dis = []\n",
    "x , y = [], []\n",
    "for key, val in trips_nodes_dict.items():\n",
    "    dis += [d[key]] * len(val)\n",
    "    for n in val:\n",
    "        x.append(nds.x[n])\n",
    "        y.append(nds.y[n])\n",
    "trips_nodes = pd.DataFrame({'x':x, 'y':y, 'dis':dis})\n",
    "trips_nodes['lat'] = to_lat(trips_nodes.y)\n",
    "trips_nodes['lon'] = to_lon(trips_nodes.x)"
   ]
  },
  {
   "cell_type": "code",
   "execution_count": null,
   "metadata": {},
   "outputs": [],
   "source": [
    "for district in set(emp.district.values):\n",
    "    print(f'{district}:\\t {emp[emp.district.apply(lambda x: x == district)].emp.sum()}') "
   ]
  },
  {
   "cell_type": "code",
   "execution_count": null,
   "metadata": {},
   "outputs": [],
   "source": [
    "dis_works = {}\n",
    "for district in set(emp.district.values):\n",
    "    works = emp[emp.district.apply(lambda x: x == district)].emp.sum()\n",
    "    # emp.district == None doesnt work    \n",
    "#     print(f'{district}:\\t {works}')\n",
    "    dis_works[district] = works\n",
    "dis_works"
   ]
  },
  {
   "cell_type": "code",
   "execution_count": null,
   "metadata": {},
   "outputs": [],
   "source": [
    "dis_residents = {\n",
    "    \"Ленинский\": 153_882,\n",
    "    \"Первомайский\": 155_072,\n",
    "    \"Первореченский\": 145_067,\n",
    "    \"Советский\": 92_140,\n",
    "    \"Фрунзенский\": 58_740\n",
    "}\n",
    "\n",
    "dis_residents_scaled = {}\n",
    "for key, value in dis_residents.items():\n",
    "    dis_residents_scaled[key] = int(value / sum(dis_residents.values()) * sum(dis_works.values()))\n",
    "dis_residents_scaled[\"Ленинский\"] += sum(dis_works.values()) - sum(dis_residents_scaled.values()) \n",
    "sum(dis_works.values()), sum(dis_residents_scaled.values())"
   ]
  },
  {
   "cell_type": "code",
   "execution_count": null,
   "metadata": {},
   "outputs": [],
   "source": [
    "trip_nodes, L, W = [], [], []\n",
    "for district, nodes in trips_nodes_dict.items():\n",
    "    trip_nodes += nodes\n",
    "    split = len(nodes)\n",
    "    \n",
    "    res = dis_residents_scaled[district]  \n",
    "    l = [int(res / split)] * split\n",
    "    l[-1] += res - sum(l)\n",
    "    L += l\n",
    "    \n",
    "    work = dis_works[district]  \n",
    "    w = [int(work / split)] * split \n",
    "    w[-1] += work - sum(w)\n",
    "    W += w\n",
    "    \n",
    "print (trip_nodes, L, W, sep='\\n')\n",
    "# with open('../data/vl_trips.txt', 'w') as f:\n",
    "#     f.write('trip nodes, L, W\\n')\n",
    "#     f.write(' '.join([str(n) for n in trip_nodes]) + '\\n')\n",
    "#     f.write(' '.join([str(n) for n in L]) + '\\n')\n",
    "#     f.write(' '.join([str(n) for n in W]) + '\\n')\n",
    "    \n",
    "# for district, target_nodes in trips_nodes_dict.items():\n",
    "#     target_split = len(target_nodes)\n",
    "        \n",
    "    \n",
    "sum(L), sum(W)\n",
    "    "
   ]
  },
  {
   "cell_type": "code",
   "execution_count": null,
   "metadata": {},
   "outputs": [],
   "source": [
    "with open('../data/soursinks_man.csv', 'w') as f:\n",
    "    f.write('x,y\\n')\n",
    "    for n in trip_nodes:\n",
    "            f.write(f'{nds.x[n]},{nds.y[n]}\\n')\n",
    "    "
   ]
  }
 ],
 "metadata": {
  "kernelspec": {
   "display_name": "Python 3",
   "language": "python",
   "name": "python3"
  },
  "language_info": {
   "codemirror_mode": {
    "name": "ipython",
    "version": 3
   },
   "file_extension": ".py",
   "mimetype": "text/x-python",
   "name": "python",
   "nbconvert_exporter": "python",
   "pygments_lexer": "ipython3",
   "version": "3.8.5"
  }
 },
 "nbformat": 4,
 "nbformat_minor": 4
}
